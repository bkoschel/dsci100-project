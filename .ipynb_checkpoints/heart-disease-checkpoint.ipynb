{
 "cells": [
  {
   "cell_type": "code",
   "execution_count": 13,
   "id": "4e6b4dc1-2a18-480a-9a7d-9e843b22cd08",
   "metadata": {
    "tags": []
   },
   "outputs": [],
   "source": [
    "library(tidyverse)\n",
    "library(repr)\n",
    "library(tidymodels)"
   ]
  },
  {
   "cell_type": "code",
   "execution_count": 14,
   "id": "5ba2838d-1720-44a8-a775-1f0f0006a995",
   "metadata": {
    "tags": []
   },
   "outputs": [
    {
     "name": "stderr",
     "output_type": "stream",
     "text": [
      "\u001b[1mRows: \u001b[22m\u001b[34m303\u001b[39m \u001b[1mColumns: \u001b[22m\u001b[34m14\u001b[39m\n",
      "\u001b[36m──\u001b[39m \u001b[1mColumn specification\u001b[22m \u001b[36m────────────────────────────────────────────────────────\u001b[39m\n",
      "\u001b[1mDelimiter:\u001b[22m \",\"\n",
      "\u001b[31mchr\u001b[39m  (2): X12, X13\n",
      "\u001b[32mdbl\u001b[39m (12): X1, X2, X3, X4, X5, X6, X7, X8, X9, X10, X11, X14\n",
      "\n",
      "\u001b[36mℹ\u001b[39m Use `spec()` to retrieve the full column specification for this data.\n",
      "\u001b[36mℹ\u001b[39m Specify the column types or set `show_col_types = FALSE` to quiet this message.\n"
     ]
    }
   ],
   "source": [
    "# reading the dataframe from the document \n",
    "\n",
    "heart_data <- read_delim(\"data/processed.cleveland.data\", delim=\",\", col_names = FALSE)"
   ]
  },
  {
   "cell_type": "code",
   "execution_count": 15,
   "id": "c8fd626f-5faa-4457-9cdd-60412689a925",
   "metadata": {
    "tags": []
   },
   "outputs": [],
   "source": [
    "# assigning coloumn names to each column\n",
    "\n",
    "heart_data <- rename(heart_data,\n",
    "                    age = X1,\n",
    "                    sex = X2,\n",
    "                    cp = X3,\n",
    "                    trestbps = X4,\n",
    "                    chol = X5,\n",
    "                    fbs = X6,\n",
    "                    restecg = X7,\n",
    "                    thalach = X8,\n",
    "                    exang = X9,\n",
    "                    oldpeak = X10,\n",
    "                    slope = X11,\n",
    "                    ca = X12,\n",
    "                    thal = X13,\n",
    "                    num = X14)\n"
   ]
  },
  {
   "cell_type": "code",
   "execution_count": 16,
   "id": "c8c8b87f-7a23-4aa5-9402-2c3795794de9",
   "metadata": {
    "tags": []
   },
   "outputs": [],
   "source": [
    "# removing \"?\" from data and replacing it with NA\n",
    "\n",
    "heart_data[heart_data == \"?\"] <- NA\n"
   ]
  },
  {
   "cell_type": "code",
   "execution_count": 18,
   "id": "e215f6d7-6ba0-4b68-ba09-2099ff8af1e1",
   "metadata": {
    "tags": []
   },
   "outputs": [],
   "source": [
    "# selecting columns of interest: age, sex, chol and num\n",
    "\n",
    "heart_data <- select(heart_data, age, sex, chol, num)"
   ]
  },
  {
   "cell_type": "code",
   "execution_count": 21,
   "id": "b0c74f3c-54a8-4807-b507-9def8a237df4",
   "metadata": {
    "tags": []
   },
   "outputs": [],
   "source": [
    "heart_data_clean <- heart_data |>\n",
    "    mutate(age = as_factor(age)) |>\n",
    "    mutate(sex = as_factor(sex)) |>\n",
    "    mutate(sex = fct_recode(sex, \"M\" = \"1\", \"F\" = \"0\")) |>\n",
    "    mutate(chol = as_factor(chol)) |>\n",
    "    mutate(num = as_factor(num)) |>\n",
    "    mutate(num = fct_recode(num, \"H\" = \"0\", \"D\" = \"1\", \"D\" = \"2\", \"D\" = \"3\", \"D\" = \"4\"))"
   ]
  },
  {
   "cell_type": "code",
   "execution_count": 24,
   "id": "92786d4b-4ff7-4fd1-8d44-2b372a716024",
   "metadata": {
    "tags": []
   },
   "outputs": [],
   "source": [
    "# splitting dataframe into training and testing datasets\n",
    "\n",
    "heart_split <- initial_split(heart_data_clean, prop = 0.75, strata = num)\n",
    "heart_training <- training(heart_split)\n",
    "heart_testing <- testing(heart_split)"
   ]
  },
  {
   "cell_type": "code",
   "execution_count": null,
   "id": "a3b114e2-699c-4eb6-9911-0674045217b8",
   "metadata": {},
   "outputs": [],
   "source": [
    "# getting the min, max, and mean of each predictor\n",
    "\n"
   ]
  },
  {
   "cell_type": "code",
   "execution_count": 20,
   "id": "52095dc4-9789-46cc-a0f1-03520ddf860c",
   "metadata": {},
   "outputs": [
    {
     "data": {
      "text/html": [
       "<table class=\"dataframe\">\n",
       "<caption>A tibble: 2 × 3</caption>\n",
       "<thead>\n",
       "\t<tr><th scope=col>num</th><th scope=col>count</th><th scope=col>percentage</th></tr>\n",
       "\t<tr><th scope=col>&lt;fct&gt;</th><th scope=col>&lt;int&gt;</th><th scope=col>&lt;dbl&gt;</th></tr>\n",
       "</thead>\n",
       "<tbody>\n",
       "\t<tr><td>H</td><td>164</td><td>54.12541</td></tr>\n",
       "\t<tr><td>D</td><td>139</td><td>45.87459</td></tr>\n",
       "</tbody>\n",
       "</table>\n"
      ],
      "text/latex": [
       "A tibble: 2 × 3\n",
       "\\begin{tabular}{lll}\n",
       " num & count & percentage\\\\\n",
       " <fct> & <int> & <dbl>\\\\\n",
       "\\hline\n",
       "\t H & 164 & 54.12541\\\\\n",
       "\t D & 139 & 45.87459\\\\\n",
       "\\end{tabular}\n"
      ],
      "text/markdown": [
       "\n",
       "A tibble: 2 × 3\n",
       "\n",
       "| num &lt;fct&gt; | count &lt;int&gt; | percentage &lt;dbl&gt; |\n",
       "|---|---|---|\n",
       "| H | 164 | 54.12541 |\n",
       "| D | 139 | 45.87459 |\n",
       "\n"
      ],
      "text/plain": [
       "  num count percentage\n",
       "1 H   164   54.12541  \n",
       "2 D   139   45.87459  "
      ]
     },
     "metadata": {},
     "output_type": "display_data"
    }
   ],
   "source": [
    "num_obs <- nrow(heart_data_clean)\n",
    "percent_obs <- heart_data_clean |> \n",
    "    group_by(num) |>\n",
    "    summarize(\n",
    "        count = n(),\n",
    "        percentage = n()/num_obs * 100)\n",
    "percent_obs"
   ]
  },
  {
   "cell_type": "code",
   "execution_count": null,
   "id": "d2143d81-8f65-4c60-a339-6363a06916d5",
   "metadata": {},
   "outputs": [],
   "source": []
  }
 ],
 "metadata": {
  "kernelspec": {
   "display_name": "R",
   "language": "R",
   "name": "ir"
  },
  "language_info": {
   "codemirror_mode": "r",
   "file_extension": ".r",
   "mimetype": "text/x-r-source",
   "name": "R",
   "pygments_lexer": "r",
   "version": "4.2.2"
  }
 },
 "nbformat": 4,
 "nbformat_minor": 5
}
