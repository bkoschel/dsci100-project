{
 "cells": [
  {
   "cell_type": "code",
   "execution_count": 79,
   "id": "4e6b4dc1-2a18-480a-9a7d-9e843b22cd08",
   "metadata": {
    "tags": []
   },
   "outputs": [],
   "source": [
    "library(tidyverse)\n",
    "library(repr)\n",
    "library(tidymodels)"
   ]
  },
  {
   "cell_type": "code",
   "execution_count": 80,
   "id": "5ba2838d-1720-44a8-a775-1f0f0006a995",
   "metadata": {
    "tags": []
   },
   "outputs": [
    {
     "name": "stderr",
     "output_type": "stream",
     "text": [
      "\u001b[1mRows: \u001b[22m\u001b[34m303\u001b[39m \u001b[1mColumns: \u001b[22m\u001b[34m14\u001b[39m\n",
      "\u001b[36m──\u001b[39m \u001b[1mColumn specification\u001b[22m \u001b[36m────────────────────────────────────────────────────────\u001b[39m\n",
      "\u001b[1mDelimiter:\u001b[22m \",\"\n",
      "\u001b[31mchr\u001b[39m  (2): X12, X13\n",
      "\u001b[32mdbl\u001b[39m (12): X1, X2, X3, X4, X5, X6, X7, X8, X9, X10, X11, X14\n",
      "\n",
      "\u001b[36mℹ\u001b[39m Use `spec()` to retrieve the full column specification for this data.\n",
      "\u001b[36mℹ\u001b[39m Specify the column types or set `show_col_types = FALSE` to quiet this message.\n"
     ]
    }
   ],
   "source": [
    "heart_data <- read_delim(\"data/processed.cleveland.data\", delim=\",\", col_names = FALSE)"
   ]
  },
  {
   "cell_type": "code",
   "execution_count": 81,
   "id": "c8fd626f-5faa-4457-9cdd-60412689a925",
   "metadata": {
    "tags": []
   },
   "outputs": [],
   "source": [
    "heart_data <- rename(heart_data,\n",
    "                    age = X1,\n",
    "                    sex = X2,\n",
    "                    cp = X3,\n",
    "                    trestbps = X4,\n",
    "                    chol = X5,\n",
    "                    fbs = X6,\n",
    "                    restecg = X7,\n",
    "                    thalach = X8,\n",
    "                    exang = X9,\n",
    "                    oldpeak = X10,\n",
    "                    slope = X11,\n",
    "                    ca = X12,\n",
    "                    thal = X13,\n",
    "                    num = X14)\n"
   ]
  },
  {
   "cell_type": "code",
   "execution_count": 82,
   "id": "6d5477b8-f368-4884-a98f-17eeb5c92a8b",
   "metadata": {
    "tags": []
   },
   "outputs": [],
   "source": [
    "heart_data <- select(heart_data, age, sex, chol, num)\n"
   ]
  },
  {
   "cell_type": "code",
   "execution_count": 83,
   "id": "121920b8-e190-485d-b6d2-31f76a27058e",
   "metadata": {
    "tags": []
   },
   "outputs": [],
   "source": [
    "heart_male <- filter(heart_data, sex == 1)\n",
    "heart_female <- filter(heart_data, sex == 0)\n",
    "heart_diseased <- filter(heart_data, num > 0)\n",
    "heart_no_disease <- filter(heart_data, num > 0)\n"
   ]
  },
  {
   "cell_type": "code",
   "execution_count": 91,
   "id": "b0c74f3c-54a8-4807-b507-9def8a237df4",
   "metadata": {
    "tags": []
   },
   "outputs": [
    {
     "name": "stderr",
     "output_type": "stream",
     "text": [
      "Warning message:\n",
      "“\u001b[1m\u001b[22mThere was 1 warning in `mutate()`.\n",
      "\u001b[1m\u001b[22m\u001b[36mℹ\u001b[39m In argument: `sex = fct_recode(sex, M = \"1\", F = \"0\")`.\n",
      "Caused by warning:\n",
      "\u001b[33m!\u001b[39m Unknown levels in `f`: 1, 0”\n"
     ]
    }
   ],
   "source": [
    "heart_data_clean <- heart_data |>\n",
    "    mutate(age = as_factor(age)) |>\n",
    "    mutate(sex = as_factor(sex)) |>\n",
    "    mutate(sex = fct_recode(sex, \"M\" = \"1\", \"F\" = \"0\")) |>\n",
    "    mutate(chol = as_factor(chol)) |>\n",
    "    mutate(num = as_factor(num)) |>\n",
    "    mutate(num = fct_recode(num, \"H\" = \"0\", \"D\" = \"1\", \"D\" = \"2\", \"D\" = \"3\", \"D\" = \"4\"))\n"
   ]
  },
  {
   "cell_type": "code",
   "execution_count": null,
   "id": "52095dc4-9789-46cc-a0f1-03520ddf860c",
   "metadata": {},
   "outputs": [],
   "source": []
  }
 ],
 "metadata": {
  "kernelspec": {
   "display_name": "R",
   "language": "R",
   "name": "ir"
  },
  "language_info": {
   "codemirror_mode": "r",
   "file_extension": ".r",
   "mimetype": "text/x-r-source",
   "name": "R",
   "pygments_lexer": "r",
   "version": "4.2.2"
  }
 },
 "nbformat": 4,
 "nbformat_minor": 5
}
