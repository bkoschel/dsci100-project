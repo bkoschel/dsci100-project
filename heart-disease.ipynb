{
 "cells": [
  {
   "cell_type": "code",
   "execution_count": 1,
   "id": "4e6b4dc1-2a18-480a-9a7d-9e843b22cd08",
   "metadata": {
    "tags": []
   },
   "outputs": [
    {
     "name": "stderr",
     "output_type": "stream",
     "text": [
      "── \u001b[1mAttaching packages\u001b[22m ─────────────────────────────────────── tidyverse 1.3.2 ──\n",
      "\u001b[32m✔\u001b[39m \u001b[34mggplot2\u001b[39m 3.4.2     \u001b[32m✔\u001b[39m \u001b[34mpurrr  \u001b[39m 1.0.1\n",
      "\u001b[32m✔\u001b[39m \u001b[34mtibble \u001b[39m 3.2.1     \u001b[32m✔\u001b[39m \u001b[34mdplyr  \u001b[39m 1.1.1\n",
      "\u001b[32m✔\u001b[39m \u001b[34mtidyr  \u001b[39m 1.3.0     \u001b[32m✔\u001b[39m \u001b[34mstringr\u001b[39m 1.5.0\n",
      "\u001b[32m✔\u001b[39m \u001b[34mreadr  \u001b[39m 2.1.3     \u001b[32m✔\u001b[39m \u001b[34mforcats\u001b[39m 0.5.2\n",
      "── \u001b[1mConflicts\u001b[22m ────────────────────────────────────────── tidyverse_conflicts() ──\n",
      "\u001b[31m✖\u001b[39m \u001b[34mdplyr\u001b[39m::\u001b[32mfilter()\u001b[39m masks \u001b[34mstats\u001b[39m::filter()\n",
      "\u001b[31m✖\u001b[39m \u001b[34mdplyr\u001b[39m::\u001b[32mlag()\u001b[39m    masks \u001b[34mstats\u001b[39m::lag()\n",
      "── \u001b[1mAttaching packages\u001b[22m ────────────────────────────────────── tidymodels 1.0.0 ──\n",
      "\n",
      "\u001b[32m✔\u001b[39m \u001b[34mbroom       \u001b[39m 1.0.2     \u001b[32m✔\u001b[39m \u001b[34mrsample     \u001b[39m 1.1.1\n",
      "\u001b[32m✔\u001b[39m \u001b[34mdials       \u001b[39m 1.1.0     \u001b[32m✔\u001b[39m \u001b[34mtune        \u001b[39m 1.0.1\n",
      "\u001b[32m✔\u001b[39m \u001b[34minfer       \u001b[39m 1.0.4     \u001b[32m✔\u001b[39m \u001b[34mworkflows   \u001b[39m 1.1.2\n",
      "\u001b[32m✔\u001b[39m \u001b[34mmodeldata   \u001b[39m 1.0.1     \u001b[32m✔\u001b[39m \u001b[34mworkflowsets\u001b[39m 1.0.0\n",
      "\u001b[32m✔\u001b[39m \u001b[34mparsnip     \u001b[39m 1.0.3     \u001b[32m✔\u001b[39m \u001b[34myardstick   \u001b[39m 1.1.0\n",
      "\u001b[32m✔\u001b[39m \u001b[34mrecipes     \u001b[39m 1.0.4     \n",
      "\n",
      "── \u001b[1mConflicts\u001b[22m ───────────────────────────────────────── tidymodels_conflicts() ──\n",
      "\u001b[31m✖\u001b[39m \u001b[34mscales\u001b[39m::\u001b[32mdiscard()\u001b[39m masks \u001b[34mpurrr\u001b[39m::discard()\n",
      "\u001b[31m✖\u001b[39m \u001b[34mdplyr\u001b[39m::\u001b[32mfilter()\u001b[39m   masks \u001b[34mstats\u001b[39m::filter()\n",
      "\u001b[31m✖\u001b[39m \u001b[34mrecipes\u001b[39m::\u001b[32mfixed()\u001b[39m  masks \u001b[34mstringr\u001b[39m::fixed()\n",
      "\u001b[31m✖\u001b[39m \u001b[34mdplyr\u001b[39m::\u001b[32mlag()\u001b[39m      masks \u001b[34mstats\u001b[39m::lag()\n",
      "\u001b[31m✖\u001b[39m \u001b[34myardstick\u001b[39m::\u001b[32mspec()\u001b[39m masks \u001b[34mreadr\u001b[39m::spec()\n",
      "\u001b[31m✖\u001b[39m \u001b[34mrecipes\u001b[39m::\u001b[32mstep()\u001b[39m   masks \u001b[34mstats\u001b[39m::step()\n",
      "\u001b[34m•\u001b[39m Use suppressPackageStartupMessages() to eliminate package startup messages\n",
      "\n"
     ]
    }
   ],
   "source": [
    "library(tidyverse)\n",
    "library(repr)\n",
    "library(tidymodels)"
   ]
  },
  {
   "cell_type": "code",
   "execution_count": 2,
   "id": "5ba2838d-1720-44a8-a775-1f0f0006a995",
   "metadata": {
    "tags": []
   },
   "outputs": [
    {
     "name": "stderr",
     "output_type": "stream",
     "text": [
      "\u001b[1mRows: \u001b[22m\u001b[34m303\u001b[39m \u001b[1mColumns: \u001b[22m\u001b[34m14\u001b[39m\n",
      "\u001b[36m──\u001b[39m \u001b[1mColumn specification\u001b[22m \u001b[36m────────────────────────────────────────────────────────\u001b[39m\n",
      "\u001b[1mDelimiter:\u001b[22m \",\"\n",
      "\u001b[31mchr\u001b[39m  (2): X12, X13\n",
      "\u001b[32mdbl\u001b[39m (12): X1, X2, X3, X4, X5, X6, X7, X8, X9, X10, X11, X14\n",
      "\n",
      "\u001b[36mℹ\u001b[39m Use `spec()` to retrieve the full column specification for this data.\n",
      "\u001b[36mℹ\u001b[39m Specify the column types or set `show_col_types = FALSE` to quiet this message.\n"
     ]
    }
   ],
   "source": [
    "# reading the dataframe from the document \n",
    "\n",
    "heart_data <- read_delim(\"data/processed.cleveland.data\", delim=\",\", col_names = FALSE)"
   ]
  },
  {
   "cell_type": "code",
   "execution_count": 3,
   "id": "c8fd626f-5faa-4457-9cdd-60412689a925",
   "metadata": {
    "tags": []
   },
   "outputs": [],
   "source": [
    "# assigning coloumn names to each column\n",
    "\n",
    "heart_data <- rename(heart_data,\n",
    "                    age = X1,\n",
    "                    sex = X2,\n",
    "                    cp = X3,\n",
    "                    trestbps = X4,\n",
    "                    chol = X5,\n",
    "                    fbs = X6,\n",
    "                    restecg = X7,\n",
    "                    thalach = X8,\n",
    "                    exang = X9,\n",
    "                    oldpeak = X10,\n",
    "                    slope = X11,\n",
    "                    ca = X12,\n",
    "                    thal = X13,\n",
    "                    num = X14)\n"
   ]
  },
  {
   "cell_type": "code",
   "execution_count": 4,
   "id": "c8c8b87f-7a23-4aa5-9402-2c3795794de9",
   "metadata": {
    "tags": []
   },
   "outputs": [],
   "source": [
    "# removing \"?\" from data and replacing it with NA\n",
    "\n",
    "heart_data[heart_data == \"?\"] <- NA\n"
   ]
  },
  {
   "cell_type": "code",
   "execution_count": 74,
   "id": "e215f6d7-6ba0-4b68-ba09-2099ff8af1e1",
   "metadata": {
    "tags": []
   },
   "outputs": [],
   "source": [
    "# selecting columns of interest: age, sex, chol and num\n",
    "\n",
    "heart_data <- select(heart_data, age, sex, chol, num)\n"
   ]
  },
  {
   "cell_type": "code",
   "execution_count": 68,
   "id": "b0c74f3c-54a8-4807-b507-9def8a237df4",
   "metadata": {
    "tags": []
   },
   "outputs": [],
   "source": [
    "heart_data_clean <- heart_data |>\n",
    "    mutate(sex = as_factor(sex)) |>\n",
    "    mutate(sex = fct_recode(sex, \"M\" = \"1\", \"F\" = \"0\")) |>\n",
    "    mutate(num = as_factor(num)) |>\n",
    "    mutate(num = fct_recode(num, \"H\" = \"0\", \"D\" = \"1\", \"D\" = \"2\", \"D\" = \"3\", \"D\" = \"4\"))"
   ]
  },
  {
   "cell_type": "code",
   "execution_count": 20,
   "id": "92786d4b-4ff7-4fd1-8d44-2b372a716024",
   "metadata": {
    "tags": []
   },
   "outputs": [],
   "source": [
    "# splitting dataframe into training and testing datasets\n",
    "\n",
    "heart_split <- initial_split(heart_data_clean, prop = 0.75, strata = num)\n",
    "heart_training <- training(heart_split)\n",
    "heart_testing <- testing(heart_split)"
   ]
  },
  {
   "cell_type": "code",
   "execution_count": 98,
   "id": "52095dc4-9789-46cc-a0f1-03520ddf860c",
   "metadata": {},
   "outputs": [
    {
     "name": "stderr",
     "output_type": "stream",
     "text": [
      "\u001b[1m\u001b[22mJoining with `by = join_by(num)`\n",
      "\u001b[1m\u001b[22mJoining with `by = join_by(num)`\n"
     ]
    },
    {
     "data": {
      "text/html": [
       "<table class=\"dataframe\">\n",
       "<caption>A tibble: 2 × 11</caption>\n",
       "<thead>\n",
       "\t<tr><th scope=col>num</th><th scope=col>count</th><th scope=col>percentage</th><th scope=col>min_age</th><th scope=col>max_age</th><th scope=col>mean_age</th><th scope=col>min_chol</th><th scope=col>max_chol</th><th scope=col>mean_chol</th><th scope=col>male</th><th scope=col>female</th></tr>\n",
       "\t<tr><th scope=col>&lt;fct&gt;</th><th scope=col>&lt;int&gt;</th><th scope=col>&lt;dbl&gt;</th><th scope=col>&lt;dbl&gt;</th><th scope=col>&lt;dbl&gt;</th><th scope=col>&lt;dbl&gt;</th><th scope=col>&lt;dbl&gt;</th><th scope=col>&lt;dbl&gt;</th><th scope=col>&lt;dbl&gt;</th><th scope=col>&lt;int&gt;</th><th scope=col>&lt;int&gt;</th></tr>\n",
       "</thead>\n",
       "<tbody>\n",
       "\t<tr><td>H</td><td>123</td><td>54.18502</td><td>29</td><td>76</td><td>52.74797</td><td>126</td><td>564</td><td>241.2764</td><td>70</td><td>53</td></tr>\n",
       "\t<tr><td>D</td><td>104</td><td>45.81498</td><td>35</td><td>77</td><td>56.40385</td><td>149</td><td>409</td><td>251.6731</td><td>84</td><td>20</td></tr>\n",
       "</tbody>\n",
       "</table>\n"
      ],
      "text/latex": [
       "A tibble: 2 × 11\n",
       "\\begin{tabular}{lllllllllll}\n",
       " num & count & percentage & min\\_age & max\\_age & mean\\_age & min\\_chol & max\\_chol & mean\\_chol & male & female\\\\\n",
       " <fct> & <int> & <dbl> & <dbl> & <dbl> & <dbl> & <dbl> & <dbl> & <dbl> & <int> & <int>\\\\\n",
       "\\hline\n",
       "\t H & 123 & 54.18502 & 29 & 76 & 52.74797 & 126 & 564 & 241.2764 & 70 & 53\\\\\n",
       "\t D & 104 & 45.81498 & 35 & 77 & 56.40385 & 149 & 409 & 251.6731 & 84 & 20\\\\\n",
       "\\end{tabular}\n"
      ],
      "text/markdown": [
       "\n",
       "A tibble: 2 × 11\n",
       "\n",
       "| num &lt;fct&gt; | count &lt;int&gt; | percentage &lt;dbl&gt; | min_age &lt;dbl&gt; | max_age &lt;dbl&gt; | mean_age &lt;dbl&gt; | min_chol &lt;dbl&gt; | max_chol &lt;dbl&gt; | mean_chol &lt;dbl&gt; | male &lt;int&gt; | female &lt;int&gt; |\n",
       "|---|---|---|---|---|---|---|---|---|---|---|\n",
       "| H | 123 | 54.18502 | 29 | 76 | 52.74797 | 126 | 564 | 241.2764 | 70 | 53 |\n",
       "| D | 104 | 45.81498 | 35 | 77 | 56.40385 | 149 | 409 | 251.6731 | 84 | 20 |\n",
       "\n"
      ],
      "text/plain": [
       "  num count percentage min_age max_age mean_age min_chol max_chol mean_chol\n",
       "1 H   123   54.18502   29      76      52.74797 126      564      241.2764 \n",
       "2 D   104   45.81498   35      77      56.40385 149      409      251.6731 \n",
       "  male female\n",
       "1 70   53    \n",
       "2 84   20    "
      ]
     },
     "metadata": {},
     "output_type": "display_data"
    }
   ],
   "source": [
    "# number of male patients in training dataset\n",
    "male_count <- heart_training |> filter(sex == \"M\") |> group_by(num) |> summarize(male = n()) \n",
    "\n",
    "#number of female patients in training dataset\n",
    "female_count <- heart_training |> filter(sex == \"F\") |> group_by(num) |> summarize(female = n()) \n",
    "\n",
    "# joining the male and female tables\n",
    "sex_join <- full_join(male_count, female_count)\n",
    "\n",
    "# getting the patient, count, percentage, min, max, count of male and female patients and mean of each predictor\n",
    "num_obs <- nrow(heart_training)\n",
    "heart_summary <- heart_training |> \n",
    "    group_by(num) |>\n",
    "    summarize(\n",
    "        count = n(),\n",
    "        percentage = n()/num_obs * 100,\n",
    "        min_age = min(age),\n",
    "        max_age = max(age),\n",
    "        mean_age = mean(age),\n",
    "        min_chol = min(chol),\n",
    "        max_chol = max(chol),\n",
    "        mean_chol = mean(chol)) \n",
    "\n",
    "heart_summary <- full_join(heart_summary, sex_join)\n",
    "heart_summary"
   ]
  },
  {
   "cell_type": "code",
   "execution_count": null,
   "id": "d2143d81-8f65-4c60-a339-6363a06916d5",
   "metadata": {},
   "outputs": [],
   "source": []
  }
 ],
 "metadata": {
  "kernelspec": {
   "display_name": "R",
   "language": "R",
   "name": "ir"
  },
  "language_info": {
   "codemirror_mode": "r",
   "file_extension": ".r",
   "mimetype": "text/x-r-source",
   "name": "R",
   "pygments_lexer": "r",
   "version": "4.2.2"
  }
 },
 "nbformat": 4,
 "nbformat_minor": 5
}
